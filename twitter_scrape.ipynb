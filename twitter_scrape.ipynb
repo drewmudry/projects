{
 "cells": [
  {
   "cell_type": "markdown",
   "id": "befaa174",
   "metadata": {},
   "source": [
    "web scraping with twint and python\n",
    "\n",
    "in this example I will use twint to download tweets and save them in a csv"
   ]
  },
  {
   "cell_type": "code",
   "execution_count": 8,
   "id": "87145abe",
   "metadata": {},
   "outputs": [
    {
     "name": "stdout",
     "output_type": "stream",
     "text": [
      "                        Time  \\\n",
      "0  2022-05-26 23:23:22+00:00   \n",
      "1  2022-05-26 23:23:20+00:00   \n",
      "2  2022-05-26 23:23:06+00:00   \n",
      "3  2022-05-26 23:23:05+00:00   \n",
      "4  2022-05-26 23:23:01+00:00   \n",
      "..                       ...   \n",
      "95 2022-05-26 23:11:29+00:00   \n",
      "96 2022-05-26 23:11:22+00:00   \n",
      "97 2022-05-26 23:11:21+00:00   \n",
      "98 2022-05-26 23:11:18+00:00   \n",
      "99 2022-05-26 23:11:18+00:00   \n",
      "\n",
      "                                                Tweet  \n",
      "0   RT @charligiirl: If you see this start tagging...  \n",
      "1                                             $GME 🎮🚀  \n",
      "2   $GME market cap at almost $10bn and yearly ear...  \n",
      "3   Hey GME Elitists.\\n Your meme game been slippi...  \n",
      "4   @MarantzRantz Popcorn fans only along for the ...  \n",
      "..                                                ...  \n",
      "95  @dizzymarket ... so, you're saying this was pu...  \n",
      "96  🔥 Click here for the best stock alerts. Link i...  \n",
      "97  RT @TGS_Trades: Live Ortex updates as of the t...  \n",
      "98  RT @gavinmayreal: $GME just for you @ThatNeigh...  \n",
      "99  RT @Matthew33968592: #AMC If You Have Doubled ...  \n",
      "\n",
      "[100 rows x 2 columns]\n"
     ]
    }
   ],
   "source": [
    "import tweepy as tw\n",
    "import pandas as pd\n",
    "import configparser\n",
    "\n",
    "#read API keys from config file\n",
    "config = configparser.ConfigParser()\n",
    "config.read('config.ini')\n",
    "\n",
    "#parse config from file\n",
    "api_key = config['twitter']['api_key']\n",
    "api_key_secret = config['twitter']['api_key_secret']\n",
    "access_token = config['twitter']['access_token']\n",
    "access_token_secret = config['twitter']['access_token_secret']\n",
    "\n",
    "#test config parse\n",
    "#print(api_key_secret)\n",
    "\n",
    "#authenticate app with twitter api \n",
    "auth = tw.OAuthHandler(api_key, api_key_secret)\n",
    "auth.set_access_token(access_token, access_token_secret)\n",
    "\n",
    "#make api instance\n",
    "api =tw.API(auth)\n",
    "\n",
    "#get tweets from username\n",
    "username = 'elonmusk'\n",
    "\n",
    "#get 10000 tweets\n",
    "limit = 10000\n",
    "\n",
    "#can only fetch 200 at a time so use Tweepy.Cursor to recursively call the api_user_timeline until we get items = limit\n",
    "#tweets = api.user_timeline(screen_name = username, count = limit, tweet_mode = 'extended')\n",
    "\n",
    "tweets = tw.Cursor(api.user_timeline,screen_name = username, count = limit, tweet_mode = 'extended').items(limit)\n",
    "\n",
    "#dataframe of time and tweet content\n",
    "columns = ['Time', 'Tweet']\n",
    "data_1 = []\n",
    "\n",
    "for tweet in tweets: \n",
    "    data_1.append([tweet.created_at, tweet.full_text])\n",
    "\n",
    "elonmusk_df = pd.DataFrame(data_1, columns = columns)\n",
    "#print(elonmusk_df)\n",
    "\n",
    "\n",
    "\n",
    "#get tweets that contains keywords\n",
    "keyword = 'GME'\n",
    "limit = 100\n",
    "\n",
    "#api call \n",
    "tweets = tw.Cursor(api.search_tweets, q=keyword, count = 100, tweet_mode = 'extended').items(limit)\n",
    "columns = ['Time', 'Tweet']\n",
    "data_2 = []\n",
    "\n",
    "for tweet in tweets: \n",
    "    data_2.append([tweet.created_at, tweet.full_text])\n",
    "    \n",
    "gme_df = pd.DataFrame(data_2, columns = columns)\n",
    "print(gme_df)\n",
    "gme_df.to_csv('gme.csv')\n"
   ]
  },
  {
   "cell_type": "code",
   "execution_count": null,
   "id": "22a7372f",
   "metadata": {},
   "outputs": [],
   "source": []
  },
  {
   "cell_type": "code",
   "execution_count": null,
   "id": "e5838692",
   "metadata": {},
   "outputs": [],
   "source": []
  }
 ],
 "metadata": {
  "kernelspec": {
   "display_name": "Python 3 (ipykernel)",
   "language": "python",
   "name": "python3"
  },
  "language_info": {
   "codemirror_mode": {
    "name": "ipython",
    "version": 3
   },
   "file_extension": ".py",
   "mimetype": "text/x-python",
   "name": "python",
   "nbconvert_exporter": "python",
   "pygments_lexer": "ipython3",
   "version": "3.7.13"
  }
 },
 "nbformat": 4,
 "nbformat_minor": 5
}
