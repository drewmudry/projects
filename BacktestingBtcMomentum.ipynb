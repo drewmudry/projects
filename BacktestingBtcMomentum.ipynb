{
  "metadata": {
    "language_info": {
      "codemirror_mode": {
        "name": "python",
        "version": 3
      },
      "file_extension": ".py",
      "mimetype": "text/x-python",
      "name": "python",
      "nbconvert_exporter": "python",
      "pygments_lexer": "ipython3",
      "version": "3.8"
    },
    "kernelspec": {
      "name": "python",
      "display_name": "Python (Pyodide)",
      "language": "python"
    }
  },
  "nbformat_minor": 4,
  "nbformat": 4,
  "cells": [
    {
      "cell_type": "code",
      "source": "import yfinance            as yf\nimport pandas              as pd\nimport numpy               as np\nfrom sklearn.linear_model  import Lasso\nfrom sklearn.model_selection import train_test_split\n\nnp.random.seed(123)\n\nBTC-USD\n\nbtc_raw = yf.Ticker(\"BTC-USD\").history(period=\"30y\")\n\nbtc = btc_raw['Close']\nbtc",
      "metadata": {
        "trusted": true
      },
      "execution_count": 1,
      "outputs": [
        {
          "ename": "<class 'ModuleNotFoundError'>",
          "evalue": "No module named 'yfinance'",
          "traceback": [
            "\u001b[0;31m---------------------------------------------------------------------------\u001b[0m",
            "\u001b[0;31mModuleNotFoundError\u001b[0m                       Traceback (most recent call last)",
            "Cell \u001b[0;32mIn [1], line 1\u001b[0m\n\u001b[0;32m----> 1\u001b[0m \u001b[38;5;28;01mimport\u001b[39;00m \u001b[38;5;21;01myfinance\u001b[39;00m            \u001b[38;5;28;01mas\u001b[39;00m \u001b[38;5;21;01myf\u001b[39;00m\n\u001b[1;32m      2\u001b[0m \u001b[38;5;28;01mimport\u001b[39;00m \u001b[38;5;21;01mpandas\u001b[39;00m              \u001b[38;5;28;01mas\u001b[39;00m \u001b[38;5;21;01mpd\u001b[39;00m\n\u001b[1;32m      3\u001b[0m \u001b[38;5;28;01mimport\u001b[39;00m \u001b[38;5;21;01mnumpy\u001b[39;00m               \u001b[38;5;28;01mas\u001b[39;00m \u001b[38;5;21;01mnp\u001b[39;00m\n",
            "\u001b[0;31mModuleNotFoundError\u001b[0m: No module named 'yfinance'"
          ],
          "output_type": "error"
        }
      ]
    },
    {
      "cell_type": "code",
      "source": "features = pd.DataFrame(btc.copy())\nfeatures['SMA_10'] = features['Close'].rolling(10).mean()\nfeatures['SMA_50'] = features['Close'].rolling(50).mean()\nfeatures['SMA_100'] = features['Close'].rolling(100).mean()\nfeatures['STD_14'] = features['Close'].pct_change().rolling(14).std()\nfeatures['Vol_Mean_20'] = doge_raw['Volume'].rolling(20).std()\nfeatures['Fake_Macro'] = np.random.rand(len(btc), 1)\nfeatures['Ret'] = features['Close'].pct_change().dropna()\nfeatures = features.drop('Close',axis=1)\nfeatures = features.dropna()",
      "metadata": {
        "trusted": true
      },
      "execution_count": 2,
      "outputs": [
        {
          "ename": "<class 'NameError'>",
          "evalue": "name 'pd' is not defined",
          "traceback": [
            "\u001b[0;31m---------------------------------------------------------------------------\u001b[0m",
            "\u001b[0;31mNameError\u001b[0m                                 Traceback (most recent call last)",
            "Cell \u001b[0;32mIn [2], line 1\u001b[0m\n\u001b[0;32m----> 1\u001b[0m features \u001b[38;5;241m=\u001b[39m \u001b[43mpd\u001b[49m\u001b[38;5;241m.\u001b[39mDataFrame(btc\u001b[38;5;241m.\u001b[39mcopy())\n\u001b[1;32m      2\u001b[0m features[\u001b[38;5;124m'\u001b[39m\u001b[38;5;124mSMA_10\u001b[39m\u001b[38;5;124m'\u001b[39m] \u001b[38;5;241m=\u001b[39m features[\u001b[38;5;124m'\u001b[39m\u001b[38;5;124mClose\u001b[39m\u001b[38;5;124m'\u001b[39m]\u001b[38;5;241m.\u001b[39mrolling(\u001b[38;5;241m10\u001b[39m)\u001b[38;5;241m.\u001b[39mmean()\n\u001b[1;32m      3\u001b[0m features[\u001b[38;5;124m'\u001b[39m\u001b[38;5;124mSMA_50\u001b[39m\u001b[38;5;124m'\u001b[39m] \u001b[38;5;241m=\u001b[39m features[\u001b[38;5;124m'\u001b[39m\u001b[38;5;124mClose\u001b[39m\u001b[38;5;124m'\u001b[39m]\u001b[38;5;241m.\u001b[39mrolling(\u001b[38;5;241m50\u001b[39m)\u001b[38;5;241m.\u001b[39mmean()\n",
            "\u001b[0;31mNameError\u001b[0m: name 'pd' is not defined"
          ],
          "output_type": "error"
        }
      ]
    },
    {
      "cell_type": "code",
      "source": "X_train, X_test, y_train, y_test = train_test_split(features.drop('Ret',axis=1), features['Ret'], test_size=0.3, shuffle=False)\n    \n    \nmodel = Lasso().fit(X_train, y_train)  # ideally we would use LassoCV but dont have time series CVs\n\nforecasts = model.predict(X_test) #no extra params for demo case",
      "metadata": {},
      "execution_count": null,
      "outputs": []
    },
    {
      "cell_type": "code",
      "source": "model.score(X_test,y_test) #not good\ny_test.plot()\npd.DataFrame(forecasts, index = y_test.index).plot()",
      "metadata": {},
      "execution_count": null,
      "outputs": []
    },
    {
      "cell_type": "code",
      "source": "pd.DataFrame(forecasts, index = y_test.index).describe()",
      "metadata": {},
      "execution_count": null,
      "outputs": []
    },
    {
      "cell_type": "markdown",
      "source": "Backtester",
      "metadata": {}
    },
    {
      "cell_type": "code",
      "source": "def backtester(signals,price, tcost = 0.005):\n\n        pos_val = np.zeros(np.shape(price))\n        cash    = np.zeros(np.shape(price))\n        cash[0] = 1\n\n        for i,val in enumerate(price):\n\n            if i == len(price)-1:\n                break\n\n\n            if signals[i] == 0:\n\n                cash[i+1] = (pos_val[i] * val * (1-tcost)) + cash[i]\n                pos_val[i+1] = 0\n\n            elif signals[i] == 1:\n\n                pos_val[i+1] = (cash[i] / val)*((1-tcost)) + pos_val[i]\n                cash[i+1] = 0\n\n\n        returns = [a*b for a,b in zip(pos_val,price)] + cash\n        \n        return pd.DataFrame(returns, index = price.index)\n    \ndef win_rate(sigs, returns):\n    \n    \"\"\"\n    Signals : series\n    returns : series\n    must be same length\n    \"\"\"\n    \n    tps = []\n\n    sigs = sigs[1:-1].values.ravel()\n\n    rets = (returns.pct_change()).shift(1).dropna().values.ravel()\n\n    for i,val in enumerate(sigs):\n\n        if (sigs[i] == 1 and rets[i]>0):\n            tps.append(1)\n\n    win_rate = sum(tps)/len(sigs)\n    return win_rate",
      "metadata": {},
      "execution_count": null,
      "outputs": []
    },
    {
      "cell_type": "code",
      "source": "strat_ret = backtester(pd.Series(sigs),doge[y_test.index[0]:])\n\nstrat_ret.plot()",
      "metadata": {},
      "execution_count": null,
      "outputs": []
    },
    {
      "cell_type": "markdown",
      "source": "Not the greatest winrate, likely due to price increases",
      "metadata": {}
    }
  ]
}