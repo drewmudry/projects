{
 "cells": [
  {
   "cell_type": "code",
   "execution_count": 86,
   "id": "8a1f64e4",
   "metadata": {},
   "outputs": [
    {
     "name": "stdout",
     "output_type": "stream",
     "text": [
      "Epoch 1/5\n",
      "11244/11244 [==============================] - 144s 13ms/step - loss: 0.0071\n",
      "Epoch 2/5\n",
      "11244/11244 [==============================] - 143s 13ms/step - loss: 0.0066\n",
      "Epoch 3/5\n",
      "11244/11244 [==============================] - 143s 13ms/step - loss: 0.0064\n",
      "Epoch 4/5\n",
      "11244/11244 [==============================] - 148s 13ms/step - loss: 0.0064\n",
      "Epoch 5/5\n",
      "11244/11244 [==============================] - 146s 13ms/step - loss: 0.0063\n"
     ]
    }
   ],
   "source": [
    "import pandas as pd\n",
    "import numpy as np\n",
    "import keras\n",
    "import matplotlib.pyplot as plt\n",
    "from sklearn.preprocessing import MinMaxScaler\n",
    "from pandas.plotting import register_matplotlib_converters\n",
    "register_matplotlib_converters()\n",
    "from keras.preprocessing.sequence import TimeseriesGenerator\n",
    "from keras.models import Sequential\n",
    "from keras.layers import Dense\n",
    "from keras.layers import LSTM\n",
    "\n",
    "df = pd.read_csv ('Traffic-Weights.csv') # read data \n",
    "y_col='TOTAL' # define y variable, i.e., what we want to predict\n",
    "\n",
    "test_size = int(len(df) * 0.2) # here I ask that the test data will be 20% of the entire data\n",
    "train = df.iloc[:-test_size,:].copy() # the copy() here is important, it will prevent us from getting: SettingWithCopyWarning:\n",
    "# Try using .loc[row_index,col_indexer] = value instead\n",
    "test = df.iloc[-test_size:,:].copy()\n",
    "\n",
    "\n",
    "X_train = train.drop(y_col,axis=1).copy()\n",
    "X_train.drop('DAY_OF_WEEK',inplace=True, axis = 1)\n",
    "X_train.drop('RCSTA',inplace=True, axis = 1)\n",
    "#print(X_train)\n",
    "y_train = train[[y_col]].copy()\n",
    "#print(y_train)\n",
    "Xscaler = MinMaxScaler(feature_range=(0, 1)) # scale so that all the X data will range from 0 to 1\n",
    "Xscaler.fit(X_train)\n",
    "scaled_X_train = Xscaler.transform(X_train)\n",
    "Yscaler = MinMaxScaler(feature_range=(0, 1))\n",
    "Yscaler.fit(y_train)\n",
    "scaled_y_train = Yscaler.transform(y_train)\n",
    "scaled_y_train = scaled_y_train.reshape(-1) # remove the second dimention from y so the shape changes from (n,1) to (n,)\n",
    "scaled_y_train = np.insert(scaled_y_train, 0, 0)\n",
    "scaled_y_train = np.delete(scaled_y_train, -1)\n",
    "n_input = 25 #how many samples/rows/timesteps to look in the past in order to forecast the next sample\n",
    "n_features= X_train.shape[1] # how many predictors/Xs/features we have to predict y\n",
    "b_size = 32 # Number of timeseries samples in each batch\n",
    "generator = TimeseriesGenerator(scaled_X_train, scaled_y_train, length=n_input, batch_size=b_size)\n",
    "\n",
    "model = Sequential()\n",
    "model.add(LSTM(150, activation='relu', input_shape=(n_input, n_features)))\n",
    "model.add(Dense(1))\n",
    "model.compile(optimizer='adam', loss='mse')\n",
    "\n",
    "model.fit_generator(generator,epochs=5)\n",
    "\n",
    "X_test = test.drop(y_col,axis=1).copy()\n",
    "X_test.drop('DAY_OF_WEEK',inplace=True, axis = 1)\n",
    "X_test.drop('RCSTA',inplace=True, axis = 1)\n",
    "scaled_X_test = Xscaler.transform(X_test)\n",
    "test_generator = TimeseriesGenerator(scaled_X_test, np.zeros(len(X_test)), length=n_input, batch_size=b_size)\n",
    "\n",
    "y_pred_scaled = model.predict(test_generator)\n",
    "y_pred = Yscaler.inverse_transform(y_pred_scaled)\n",
    "results = pd.DataFrame({'y_true':test[y_col].values[n_input:],'y_pred':y_pred.ravel()})"
   ]
  },
  {
   "cell_type": "code",
   "execution_count": 87,
   "id": "92f676f4",
   "metadata": {},
   "outputs": [
    {
     "name": "stdout",
     "output_type": "stream",
     "text": [
      "       y_true    y_pred\n",
      "0           3  5.123155\n",
      "1           6  5.123155\n",
      "2           3  5.123155\n",
      "3           2  5.123155\n",
      "4           5  5.123155\n",
      "...       ...       ...\n",
      "89924       6  6.731034\n",
      "89925       0  6.731034\n",
      "89926       0  6.731034\n",
      "89927       0  6.731034\n",
      "89928       0  6.731034\n",
      "\n",
      "[89929 rows x 2 columns]\n"
     ]
    }
   ],
   "source": [
    "print(results)"
   ]
  },
  {
   "cell_type": "code",
   "execution_count": null,
   "id": "ca1be827",
   "metadata": {},
   "outputs": [],
   "source": []
  }
 ],
 "metadata": {
  "kernelspec": {
   "display_name": "Python 3",
   "language": "python",
   "name": "python3"
  },
  "language_info": {
   "codemirror_mode": {
    "name": "ipython",
    "version": 3
   },
   "file_extension": ".py",
   "mimetype": "text/x-python",
   "name": "python",
   "nbconvert_exporter": "python",
   "pygments_lexer": "ipython3",
   "version": "3.6.13"
  }
 },
 "nbformat": 4,
 "nbformat_minor": 5
}
